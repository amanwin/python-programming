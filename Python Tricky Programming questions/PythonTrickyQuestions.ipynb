{
 "cells": [
  {
   "cell_type": "markdown",
   "metadata": {},
   "source": [
    "## Question: Flatten a list\n",
    "### Description\n",
    "Given a nested list, write python code to flatten the list.\n",
    "Note: The input list will strictly have 2 levels, i.e. the list will be of the form [[1,2],[3,4]]. Inputs like [1,[2,3]] and [[1,[2,3],4],5] are not applicable.\n",
    "\n",
    "**For example:** <br/> If the input list is : <br/>\n",
    "[[1,2,3],[4,5],[6,7,8,9]] <br/>\n",
    "Then the output should be: <br/>\n",
    "[1,2,3,4,5,6,7,8,9]\n"
   ]
  },
  {
   "cell_type": "code",
   "execution_count": 2,
   "metadata": {},
   "outputs": [
    {
     "name": "stdout",
     "output_type": "stream",
     "text": [
      "[1, 2, 3, 4, 5, 6, 7, 8, 9]\n"
     ]
    }
   ],
   "source": [
    "# Solution\n",
    "\n",
    "input_list = [[1,2,3],[4,5],[6,7,8,9]]\n",
    "flat_list = [element for sublist in input_list for element in sublist]\n",
    "print(flat_list)"
   ]
  },
  {
   "cell_type": "markdown",
   "metadata": {},
   "source": [
    "## Question: Squares\n",
    "### Description\n",
    "Given a list of positive integers, you have to find numbers divisible by 3 and replace them with their squares. \n",
    "For example, consider the list below:<br/>\n",
    "Input: [1,2,3,4,5,6]<br/>\n",
    "The output for the above list would be: [1,2,9,4,5,36]. Because 3 and 6 were divisible by 3, these numbers were replaced with their squares."
   ]
  },
  {
   "cell_type": "code",
   "execution_count": 5,
   "metadata": {},
   "outputs": [
    {
     "name": "stdout",
     "output_type": "stream",
     "text": [
      "[1, 2, 9, 4, 5, 36]\n"
     ]
    }
   ],
   "source": [
    "#Solution\n",
    "\n",
    "list1 = [1,2,3,4,5,6]\n",
    "output_list = [x if x%3!=0 else x**2 for x in list1]\n",
    "print(output_list)"
   ]
  },
  {
   "cell_type": "markdown",
   "metadata": {},
   "source": [
    "## Question: A weird sum\n",
    "### Description\n",
    "Write a program that computes the value of n+nn+nnn+nnnn with a given digit as the value of n.<br/>\n",
    "For example, if n=9 , then you have to find the value of 9+99+999+9999."
   ]
  },
  {
   "cell_type": "code",
   "execution_count": 7,
   "metadata": {},
   "outputs": [
    {
     "name": "stdout",
     "output_type": "stream",
     "text": [
      "9\n",
      "11106\n"
     ]
    }
   ],
   "source": [
    "n = input()\n",
    "n1 = int(\"%s\" % n)\n",
    "n2 = int(\"%s%s\" % (n,n))\n",
    "n3 = int(\"%s%s%s\" % (n,n,n))\n",
    "n4 = int(\"%s%s%s%s\" % (n,n,n,n))\n",
    "\n",
    "print(n1+n2+n3+n4)"
   ]
  },
  {
   "cell_type": "code",
   "execution_count": 8,
   "metadata": {},
   "outputs": [
    {
     "name": "stdout",
     "output_type": "stream",
     "text": [
      "Jazz 13\n"
     ]
    }
   ],
   "source": [
    "# Note for above\n",
    "\n",
    "name = \"Jazz\"\n",
    "age = 13\n",
    "print(\"%s %d\" % (name,age))"
   ]
  },
  {
   "cell_type": "markdown",
   "metadata": {},
   "source": [
    "## Frequent Letters\n",
    "## Description\n",
    "Given a string, you have to find the first n most frequent characters in it.\n",
    "\n",
    "You have to print these n letters in alphabetically sorted order.\n",
    "\n",
    "The input will contain two lines, the first line will contain a string and the second line will contain the letter n.\n",
    "\n",
    "The output should be a list of n most frequent letters in alphabetically sorted order.\n",
    "\n",
    "Note: If there are two letters with the same frequency, then the alphabetically preceding alphabet should be picked first. (For example, in \"aabbccc\", if n=2, then output list would have c and a.)\n",
    "\n",
    "Sample Input:\n",
    "\n",
    "ddddaacccb\n",
    "\n",
    "3\n",
    "\n",
    "Sample Output:\n",
    "\n",
    "['a', 'c', 'd']"
   ]
  },
  {
   "cell_type": "code",
   "execution_count": 19,
   "metadata": {},
   "outputs": [
    {
     "name": "stdout",
     "output_type": "stream",
     "text": [
      "ddddaacccb\n",
      "3\n",
      "['a', 'c', 'd']\n"
     ]
    }
   ],
   "source": [
    "#Solution\n",
    "\n",
    "string=input()\n",
    "n=int(input())\n",
    "import collections\n",
    "out=[collections.Counter(string).most_common(i+1)[i][0] for i in range(n)]\n",
    "out.sort()\n",
    "print(out)"
   ]
  }
 ],
 "metadata": {
  "kernelspec": {
   "display_name": "Python 3",
   "language": "python",
   "name": "python3"
  },
  "language_info": {
   "codemirror_mode": {
    "name": "ipython",
    "version": 3
   },
   "file_extension": ".py",
   "mimetype": "text/x-python",
   "name": "python",
   "nbconvert_exporter": "python",
   "pygments_lexer": "ipython3",
   "version": "3.7.4"
  }
 },
 "nbformat": 4,
 "nbformat_minor": 2
}
